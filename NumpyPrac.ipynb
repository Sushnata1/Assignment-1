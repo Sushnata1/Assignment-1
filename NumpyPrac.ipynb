{
  "nbformat": 4,
  "nbformat_minor": 0,
  "metadata": {
    "colab": {
      "name": "NumpyPrac.ipynb",
      "version": "0.3.2",
      "provenance": [],
      "collapsed_sections": [],
      "include_colab_link": true
    },
    "kernelspec": {
      "name": "python3",
      "display_name": "Python 3"
    }
  },
  "cells": [
    {
      "cell_type": "markdown",
      "metadata": {
        "id": "view-in-github",
        "colab_type": "text"
      },
      "source": [
        "<a href=\"https://colab.research.google.com/github/Sushnata1/Assignment-1/blob/master/NumpyPrac.ipynb\" target=\"_parent\"><img src=\"https://colab.research.google.com/assets/colab-badge.svg\" alt=\"Open In Colab\"/></a>"
      ]
    },
    {
      "cell_type": "markdown",
      "metadata": {
        "id": "bDJ-jVb3c6AT",
        "colab_type": "text"
      },
      "source": [
        "#Numpy"
      ]
    },
    {
      "cell_type": "code",
      "metadata": {
        "id": "OOJIAkI3bHB7",
        "colab_type": "code",
        "colab": {}
      },
      "source": [
        "import numpy as np"
      ],
      "execution_count": 0,
      "outputs": []
    },
    {
      "cell_type": "markdown",
      "metadata": {
        "id": "fbGy7ERic2YU",
        "colab_type": "text"
      },
      "source": [
        "**71.Input n random numbers between 0 & 1 and find the sum and average**"
      ]
    },
    {
      "cell_type": "code",
      "metadata": {
        "id": "H9_bQKgjdhTJ",
        "colab_type": "code",
        "colab": {
          "base_uri": "https://localhost:8080/",
          "height": 102
        },
        "outputId": "efbbae22-caaa-410c-d28c-45d29acb16fc"
      },
      "source": [
        "n = int(input(\"Enter n : \"))\n",
        "ar = np.random.rand(n)\n",
        "print(ar)\n",
        "s = np.sum(ar)\n",
        "a = np.average(ar)\n",
        "print(\"sum = \",s,\" ; \",\"average = \",a)"
      ],
      "execution_count": 4,
      "outputs": [
        {
          "output_type": "stream",
          "text": [
            "Enter n : 14\n",
            "[0.05220481 0.30762083 0.96492693 0.37907422 0.15374025 0.54386874\n",
            " 0.15138255 0.58547182 0.75715947 0.59588359 0.37415543 0.96413245\n",
            " 0.52215824 0.49059062]\n",
            "sum =  6.842369964429051  ;  average =  0.4887407117449322\n"
          ],
          "name": "stdout"
        }
      ]
    },
    {
      "cell_type": "markdown",
      "metadata": {
        "id": "51mYT_noc0Ib",
        "colab_type": "text"
      },
      "source": [
        "**72. Input an array of n random numbers and search an item from it**"
      ]
    },
    {
      "cell_type": "code",
      "metadata": {
        "id": "CxrEgBK7f5L0",
        "colab_type": "code",
        "colab": {}
      },
      "source": [
        ""
      ],
      "execution_count": 0,
      "outputs": []
    }
  ]
}